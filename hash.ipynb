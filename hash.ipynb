{
 "cells": [
  {
   "cell_type": "code",
   "execution_count": 5,
   "id": "e689b576",
   "metadata": {},
   "outputs": [
    {
     "name": "stdout",
     "output_type": "stream",
     "text": [
      "New Password: BeautifulHorse19@\n"
     ]
    }
   ],
   "source": [
    "import random\n",
    "Adjective=['Beautiful','Nice','Gorgeous','Fantastic','Cruel','Lucky','Happy','Lovely','Naughty']\n",
    "Noun=['Boy','Lady','Girl','Horse','Bee','King','Queen','Car','Flower']\n",
    "Number=range(0,100)\n",
    "Character=['@','#','$','&','*','!','?']\n",
    "adj=random.choice(Adjective)\n",
    "noun=random.choice(Noun)\n",
    "num=random.choice(Number)\n",
    "chara=random.choice(Character)\n",
    "print('New Password:',adj+noun+str(num)+chara)"
   ]
  },
  {
   "cell_type": "code",
   "execution_count": null,
   "id": "e4f81b51",
   "metadata": {},
   "outputs": [],
   "source": []
  }
 ],
 "metadata": {
  "kernelspec": {
   "display_name": "Python 3",
   "language": "python",
   "name": "python3"
  },
  "language_info": {
   "codemirror_mode": {
    "name": "ipython",
    "version": 3
   },
   "file_extension": ".py",
   "mimetype": "text/x-python",
   "name": "python",
   "nbconvert_exporter": "python",
   "pygments_lexer": "ipython3",
   "version": "3.8.8"
  }
 },
 "nbformat": 4,
 "nbformat_minor": 5
}
