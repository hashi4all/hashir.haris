{
 "cells": [
  {
   "cell_type": "code",
   "execution_count": 1,
   "id": "bb8aca69",
   "metadata": {},
   "outputs": [
    {
     "name": "stdout",
     "output_type": "stream",
     "text": [
      "Guess the animal\n",
      "Which Bear lives in the north pole?polar bear\n",
      "Correct Answer\n",
      "Which is the fastest land animal?horse\n",
      "sorry. wrong answer. try again:cheetah\n",
      "Correct Answer\n",
      "Which is the largest animal?elephant\n",
      "sorry. wrong answer. try again:giraffe\n",
      "sorry. wrong answer. try again:rhinoceros\n",
      "Correct answer is Blue Whale\n",
      "final score is: 2\n"
     ]
    }
   ],
   "source": [
    "def quiz(guess,answer):\n",
    "    global score\n",
    "    attempt=0\n",
    "    for attempt in range(0,3):\n",
    "        if guess.lower()==answer.lower():\n",
    "            print('Correct Answer')\n",
    "            score+=1\n",
    "            break\n",
    "        elif (attempt<2):\n",
    "            guess=input('sorry. wrong answer. try again:')\n",
    "    else:\n",
    "        attempt==3\n",
    "        print('Correct answer is',answer)\n",
    "score=0\n",
    "print('Guess the animal')\n",
    "guess1=input('Which Bear lives in the north pole?')\n",
    "quiz(guess1,'Polar Bear')\n",
    "guess2=input('Which is the fastest land animal?')\n",
    "quiz(guess2,'Cheetah')\n",
    "guess3=input('Which is the largest animal?')\n",
    "quiz(guess3,'Blue Whale')\n",
    "\n",
    "print('final score is:',str(score))\n"
   ]
  },
  {
   "cell_type": "code",
   "execution_count": null,
   "id": "7b03d961",
   "metadata": {},
   "outputs": [],
   "source": []
  },
  {
   "cell_type": "code",
   "execution_count": null,
   "id": "2b56a707",
   "metadata": {},
   "outputs": [],
   "source": []
  }
 ],
 "metadata": {
  "kernelspec": {
   "display_name": "Python 3",
   "language": "python",
   "name": "python3"
  },
  "language_info": {
   "codemirror_mode": {
    "name": "ipython",
    "version": 3
   },
   "file_extension": ".py",
   "mimetype": "text/x-python",
   "name": "python",
   "nbconvert_exporter": "python",
   "pygments_lexer": "ipython3",
   "version": "3.8.8"
  }
 },
 "nbformat": 4,
 "nbformat_minor": 5
}
