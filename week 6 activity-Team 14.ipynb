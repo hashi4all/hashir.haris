{
 "cells": [
  {
   "cell_type": "code",
   "execution_count": 5,
   "id": "4356a365",
   "metadata": {},
   "outputs": [],
   "source": [
    "import pandas as pd"
   ]
  },
  {
   "cell_type": "code",
   "execution_count": 6,
   "id": "0359ffdd",
   "metadata": {},
   "outputs": [],
   "source": [
    "data1=pd.read_excel('Dataset_w6.xlsx')"
   ]
  },
  {
   "cell_type": "code",
   "execution_count": 7,
   "id": "c73c9458",
   "metadata": {},
   "outputs": [
    {
     "data": {
      "text/html": [
       "<div>\n",
       "<style scoped>\n",
       "    .dataframe tbody tr th:only-of-type {\n",
       "        vertical-align: middle;\n",
       "    }\n",
       "\n",
       "    .dataframe tbody tr th {\n",
       "        vertical-align: top;\n",
       "    }\n",
       "\n",
       "    .dataframe thead th {\n",
       "        text-align: right;\n",
       "    }\n",
       "</style>\n",
       "<table border=\"1\" class=\"dataframe\">\n",
       "  <thead>\n",
       "    <tr style=\"text-align: right;\">\n",
       "      <th></th>\n",
       "      <th>country</th>\n",
       "      <th>Region</th>\n",
       "      <th>Surface area (km2)</th>\n",
       "      <th>Population in thousands (2017)</th>\n",
       "      <th>GDP per capita (current US$)</th>\n",
       "      <th>Agricultural production index</th>\n",
       "      <th>International trade: Imports (million US$)</th>\n",
       "    </tr>\n",
       "  </thead>\n",
       "  <tbody>\n",
       "    <tr>\n",
       "      <th>0</th>\n",
       "      <td>Afghanistan</td>\n",
       "      <td>SouthernAsia</td>\n",
       "      <td>652864</td>\n",
       "      <td>35530</td>\n",
       "      <td>623.2</td>\n",
       "      <td>125</td>\n",
       "      <td>3568</td>\n",
       "    </tr>\n",
       "    <tr>\n",
       "      <th>1</th>\n",
       "      <td>Albania</td>\n",
       "      <td>SouthernEurope</td>\n",
       "      <td>28748</td>\n",
       "      <td>2930</td>\n",
       "      <td>3984.2</td>\n",
       "      <td>134</td>\n",
       "      <td>4669</td>\n",
       "    </tr>\n",
       "    <tr>\n",
       "      <th>2</th>\n",
       "      <td>Algeria</td>\n",
       "      <td>NorthernAfrica</td>\n",
       "      <td>2381741</td>\n",
       "      <td>41318</td>\n",
       "      <td>4154.1</td>\n",
       "      <td>160</td>\n",
       "      <td>47091</td>\n",
       "    </tr>\n",
       "    <tr>\n",
       "      <th>3</th>\n",
       "      <td>Angola</td>\n",
       "      <td>MiddleAfrica</td>\n",
       "      <td>1246700</td>\n",
       "      <td>29784</td>\n",
       "      <td>4714.1</td>\n",
       "      <td>175</td>\n",
       "      <td>8790</td>\n",
       "    </tr>\n",
       "    <tr>\n",
       "      <th>4</th>\n",
       "      <td>Antigua and Barbuda</td>\n",
       "      <td>Caribbean</td>\n",
       "      <td>442</td>\n",
       "      <td>102</td>\n",
       "      <td>14764.5</td>\n",
       "      <td>88</td>\n",
       "      <td>491</td>\n",
       "    </tr>\n",
       "    <tr>\n",
       "      <th>...</th>\n",
       "      <td>...</td>\n",
       "      <td>...</td>\n",
       "      <td>...</td>\n",
       "      <td>...</td>\n",
       "      <td>...</td>\n",
       "      <td>...</td>\n",
       "      <td>...</td>\n",
       "    </tr>\n",
       "    <tr>\n",
       "      <th>191</th>\n",
       "      <td>Venezuela (Bolivarian Republic of)</td>\n",
       "      <td>SouthAmerica</td>\n",
       "      <td>912050</td>\n",
       "      <td>31977</td>\n",
       "      <td>11068.9</td>\n",
       "      <td>118</td>\n",
       "      <td>16324</td>\n",
       "    </tr>\n",
       "    <tr>\n",
       "      <th>192</th>\n",
       "      <td>Viet Nam</td>\n",
       "      <td>South-easternAsia</td>\n",
       "      <td>330967</td>\n",
       "      <td>95541</td>\n",
       "      <td>2067.9</td>\n",
       "      <td>136</td>\n",
       "      <td>174111</td>\n",
       "    </tr>\n",
       "    <tr>\n",
       "      <th>193</th>\n",
       "      <td>Yemen</td>\n",
       "      <td>WesternAsia</td>\n",
       "      <td>527968</td>\n",
       "      <td>28250</td>\n",
       "      <td>1106.4</td>\n",
       "      <td>136</td>\n",
       "      <td>6861</td>\n",
       "    </tr>\n",
       "    <tr>\n",
       "      <th>194</th>\n",
       "      <td>Zambia</td>\n",
       "      <td>EasternAfrica</td>\n",
       "      <td>752612</td>\n",
       "      <td>17094</td>\n",
       "      <td>1311.1</td>\n",
       "      <td>179</td>\n",
       "      <td>7442</td>\n",
       "    </tr>\n",
       "    <tr>\n",
       "      <th>195</th>\n",
       "      <td>Zimbabwe</td>\n",
       "      <td>EasternAfrica</td>\n",
       "      <td>390757</td>\n",
       "      <td>16530</td>\n",
       "      <td>890.4</td>\n",
       "      <td>99</td>\n",
       "      <td>5212</td>\n",
       "    </tr>\n",
       "  </tbody>\n",
       "</table>\n",
       "<p>196 rows × 7 columns</p>\n",
       "</div>"
      ],
      "text/plain": [
       "                                country             Region  \\\n",
       "0                           Afghanistan       SouthernAsia   \n",
       "1                               Albania     SouthernEurope   \n",
       "2                               Algeria     NorthernAfrica   \n",
       "3                                Angola       MiddleAfrica   \n",
       "4                   Antigua and Barbuda          Caribbean   \n",
       "..                                  ...                ...   \n",
       "191  Venezuela (Bolivarian Republic of)       SouthAmerica   \n",
       "192                            Viet Nam  South-easternAsia   \n",
       "193                               Yemen        WesternAsia   \n",
       "194                              Zambia      EasternAfrica   \n",
       "195                            Zimbabwe      EasternAfrica   \n",
       "\n",
       "     Surface area (km2)  Population in thousands (2017)  \\\n",
       "0                652864                           35530   \n",
       "1                 28748                            2930   \n",
       "2               2381741                           41318   \n",
       "3               1246700                           29784   \n",
       "4                   442                             102   \n",
       "..                  ...                             ...   \n",
       "191              912050                           31977   \n",
       "192              330967                           95541   \n",
       "193              527968                           28250   \n",
       "194              752612                           17094   \n",
       "195              390757                           16530   \n",
       "\n",
       "     GDP per capita (current US$)  Agricultural production index   \\\n",
       "0                           623.2                             125   \n",
       "1                          3984.2                             134   \n",
       "2                          4154.1                             160   \n",
       "3                          4714.1                             175   \n",
       "4                         14764.5                              88   \n",
       "..                            ...                             ...   \n",
       "191                       11068.9                             118   \n",
       "192                        2067.9                             136   \n",
       "193                        1106.4                             136   \n",
       "194                        1311.1                             179   \n",
       "195                         890.4                              99   \n",
       "\n",
       "     International trade: Imports (million US$)  \n",
       "0                                          3568  \n",
       "1                                          4669  \n",
       "2                                         47091  \n",
       "3                                          8790  \n",
       "4                                           491  \n",
       "..                                          ...  \n",
       "191                                       16324  \n",
       "192                                      174111  \n",
       "193                                        6861  \n",
       "194                                        7442  \n",
       "195                                        5212  \n",
       "\n",
       "[196 rows x 7 columns]"
      ]
     },
     "execution_count": 7,
     "metadata": {},
     "output_type": "execute_result"
    }
   ],
   "source": [
    "data1"
   ]
  },
  {
   "cell_type": "markdown",
   "id": "f8db3286",
   "metadata": {},
   "source": [
    "# 1) Find out how many countries are there in the dataset."
   ]
  },
  {
   "cell_type": "code",
   "execution_count": 8,
   "id": "e56d8292",
   "metadata": {},
   "outputs": [
    {
     "data": {
      "text/plain": [
       "196"
      ]
     },
     "execution_count": 8,
     "metadata": {},
     "output_type": "execute_result"
    }
   ],
   "source": [
    "data1['country'].nunique()"
   ]
  },
  {
   "cell_type": "markdown",
   "id": "275edae3",
   "metadata": {},
   "source": [
    "# 2) Examine the data by using visualizations."
   ]
  },
  {
   "cell_type": "code",
   "execution_count": 11,
   "id": "28df7cc9",
   "metadata": {},
   "outputs": [],
   "source": [
    "import matplotlib.pyplot as plt"
   ]
  },
  {
   "cell_type": "code",
   "execution_count": 22,
   "id": "c4d87ab9",
   "metadata": {},
   "outputs": [
    {
     "data": {
      "image/png": "[encoded data removed]",
      "text/plain": [
       "<Figure size 1440x576 with 1 Axes>"
      ]
     },
     "metadata": {
      "needs_background": "light"
     },
     "output_type": "display_data"
    }
   ],
   "source": [
    "plt.figure(figsize=(20,8))\n",
    "plt.bar(data1['Region'],data1['GDP per capita (current US$)'])\n",
    "plt.title('Region vs GDP per capita (current US$) ',fontsize=20)\n",
    "plt.xticks(rotation=90)\n",
    "plt.xlabel('Region',fontsize=15)\n",
    "plt.ylabel('GDP per capita (current US$)',fontsize=15)\n",
    "plt.grid()\n",
    "plt.show()\n"
   ]
  },
  {
   "cell_type": "markdown",
   "id": "d61636da",
   "metadata": {},
   "source": [
    "# 3)Find out how many countries with respect to the region are available in the dataset"
   ]
  },
  {
   "cell_type": "code",
   "execution_count": 11,
   "id": "c5e8b158",
   "metadata": {},
   "outputs": [
    {
     "data": {
      "text/plain": [
       "WesternAsia          18\n",
       "EasternAfrica        17\n",
       "Caribbean            16\n",
       "WesternAfrica        15\n",
       "SouthernEurope       12\n",
       "SouthAmerica         12\n",
       "South-easternAsia    11\n",
       "NorthernEurope       10\n",
       "EasternEurope        10\n",
       "MiddleAfrica          9\n",
       "SouthernAsia          9\n",
       "CentralAmerica        8\n",
       "EasternAsia           7\n",
       "WesternEurope         7\n",
       "Polynesia             5\n",
       "SouthernAfrica        5\n",
       "Melanesia             5\n",
       "CentralAsia           5\n",
       "NorthernAfrica        5\n",
       "NorthernAmerica       4\n",
       "Micronesia            4\n",
       "Oceania               2\n",
       "Name: Region, dtype: int64"
      ]
     },
     "execution_count": 11,
     "metadata": {},
     "output_type": "execute_result"
    }
   ],
   "source": [
    "data1['Region'].value_counts()"
   ]
  },
  {
   "cell_type": "markdown",
   "id": "0588be40",
   "metadata": {},
   "source": [
    "# 4)On average which region has the highest\n",
    "\n"
   ]
  },
  {
   "cell_type": "markdown",
   "id": "56f7f220",
   "metadata": {},
   "source": [
    "# a. GDP per capita (current US$)"
   ]
  },
  {
   "cell_type": "code",
   "execution_count": 32,
   "id": "ff8d0e52",
   "metadata": {},
   "outputs": [
    {
     "data": {
      "text/plain": [
       "Region\n",
       "NorthernAmerica      57659.000000\n",
       "WesternEurope        55387.128571\n",
       "Oceania              44823.250000\n",
       "NorthernEurope       42098.220000\n",
       "EasternAsia          27967.614286\n",
       "WesternAsia          17013.938889\n",
       "Caribbean            15135.562500\n",
       "SouthernEurope       14462.741667\n",
       "South-easternAsia    10299.027273\n",
       "EasternEurope         9292.490000\n",
       "Melanesia             9261.960000\n",
       "Polynesia             8686.520000\n",
       "SouthAmerica          8499.775000\n",
       "CentralAmerica        6348.137500\n",
       "Micronesia            5008.300000\n",
       "CentralAsia           4329.880000\n",
       "SouthernAfrica        4191.900000\n",
       "NorthernAfrica        3934.960000\n",
       "MiddleAfrica          3928.833333\n",
       "SouthernAsia          2968.400000\n",
       "EasternAfrica         2088.852941\n",
       "WesternAfrica         1013.140000\n",
       "Name: GDP per capita (current US$), dtype: float64"
      ]
     },
     "execution_count": 32,
     "metadata": {},
     "output_type": "execute_result"
    }
   ],
   "source": [
    "data1.groupby('Region')['GDP per capita (current US$)'].mean().sort_values(ascending=False)"
   ]
  },
  {
   "cell_type": "code",
   "execution_count": 24,
   "id": "66632c6f",
   "metadata": {},
   "outputs": [],
   "source": [
    "#Northern America has highest average GDP per capita."
   ]
  },
  {
   "cell_type": "markdown",
   "id": "2a481f29",
   "metadata": {},
   "source": [
    "# b. International trade: Imports (million US$)"
   ]
  },
  {
   "cell_type": "code",
   "execution_count": 33,
   "id": "6c8d3446",
   "metadata": {},
   "outputs": [
    {
     "data": {
      "text/plain": [
       "Region\n",
       "NorthernAmerica      663552.250000\n",
       "EasternAsia          451995.000000\n",
       "WesternEurope        407498.428571\n",
       "NorthernEurope       113407.200000\n",
       "Oceania              112914.500000\n",
       "South-easternAsia     98324.636364\n",
       "EasternEurope         85243.900000\n",
       "SouthernEurope        76666.666667\n",
       "SouthernAsia          58199.333333\n",
       "CentralAmerica        57031.500000\n",
       "WesternAsia           46025.555556\n",
       "NorthernAfrica        35034.400000\n",
       "SouthAmerica          32885.666667\n",
       "SouthernAfrica        18005.600000\n",
       "CentralAsia           12063.400000\n",
       "WesternAfrica          4898.333333\n",
       "EasternAfrica          4726.176471\n",
       "MiddleAfrica           4381.222222\n",
       "Caribbean              3057.312500\n",
       "Melanesia              2896.400000\n",
       "Polynesia               432.000000\n",
       "Micronesia               99.000000\n",
       "Name: International trade: Imports (million US$), dtype: float64"
      ]
     },
     "execution_count": 33,
     "metadata": {},
     "output_type": "execute_result"
    }
   ],
   "source": [
    "data1.groupby('Region')['International trade: Imports (million US$)'].mean().sort_values(ascending=False)"
   ]
  },
  {
   "cell_type": "code",
   "execution_count": 25,
   "id": "3aeedaba",
   "metadata": {},
   "outputs": [],
   "source": [
    "#Northern America has the highesst average International trade: Imports (million US$)"
   ]
  },
  {
   "cell_type": "markdown",
   "id": "3387e10c",
   "metadata": {},
   "source": [
    "# 5) Find out which region has more consistent with respect to GDP percapita (current US$"
   ]
  },
  {
   "cell_type": "code",
   "execution_count": 40,
   "id": "833b0316",
   "metadata": {},
   "outputs": [
    {
     "data": {
      "text/plain": [
       "Region\n",
       "WesternAfrica          815.095399\n",
       "NorthernAfrica         974.706575\n",
       "SouthernAfrica        2177.551120\n",
       "SouthernAsia          2855.708179\n",
       "EasternAfrica         3716.131770\n",
       "CentralAsia           4152.215490\n",
       "CentralAmerica        4180.440883\n",
       "SouthAmerica          4273.707394\n",
       "Micronesia            4820.669694\n",
       "MiddleAfrica          5274.846281\n",
       "EasternEurope         5415.488739\n",
       "Polynesia             6956.250286\n",
       "Oceania               9233.329638\n",
       "SouthernEurope        9541.703216\n",
       "Melanesia            13855.842686\n",
       "Caribbean            14579.371326\n",
       "South-easternAsia    16311.810656\n",
       "WesternAsia          18812.151459\n",
       "NorthernEurope       20671.030185\n",
       "WesternEurope        24770.467728\n",
       "NorthernAmerica      25749.619445\n",
       "EasternAsia          27485.120923\n",
       "Name: GDP per capita (current US$), dtype: float64"
      ]
     },
     "execution_count": 40,
     "metadata": {},
     "output_type": "execute_result"
    }
   ],
   "source": [
    "data1.groupby('Region')['GDP per capita (current US$)'].std().sort_values(ascending=True)"
   ]
  },
  {
   "cell_type": "code",
   "execution_count": 26,
   "id": "1bea2c1b",
   "metadata": {},
   "outputs": [],
   "source": [
    "#Western africa has lower std deviation value all data point closely clustered to the mean hence more consistent w.r.t GDP per capita."
   ]
  },
  {
   "cell_type": "code",
   "execution_count": null,
   "id": "e1623442",
   "metadata": {},
   "outputs": [],
   "source": []
  },
  {
   "cell_type": "code",
   "execution_count": null,
   "id": "c842e08c",
   "metadata": {},
   "outputs": [],
   "source": []
  }
 ],
 "metadata": {
  "kernelspec": {
   "display_name": "Python 3",
   "language": "python",
   "name": "python3"
  },
  "language_info": {
   "codemirror_mode": {
    "name": "ipython",
    "version": 3
   },
   "file_extension": ".py",
   "mimetype": "text/x-python",
   "name": "python",
   "nbconvert_exporter": "python",
   "pygments_lexer": "ipython3",
   "version": "3.8.8"
  }
 },
 "nbformat": 4,
 "nbformat_minor": 5
}
